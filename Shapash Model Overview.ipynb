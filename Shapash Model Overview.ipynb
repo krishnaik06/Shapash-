{
 "cells": [
  {
   "cell_type": "markdown",
   "id": "infinite-candidate",
   "metadata": {},
   "source": [
    "### Shapash Model Overview\n",
    "https://shapash.readthedocs.io/en/latest/\n",
    "\n",
    "##### With this tutorial you:\n",
    "Understand how to create a Shapash SmartPredictor to make prediction and have local explanation in production with a simple use case.\n",
    "\n",
    "This tutorial describes the different steps from training the model to Shapash SmartPredictor deployment. A more detailed tutorial allows you to know more about the SmartPredictor Object.\n",
    "\n",
    "Contents:\n",
    "\n",
    "- Build a Regressor\n",
    "- Compile Shapash SmartExplainer\n",
    "- From Shapash SmartExplainer to SmartPredictor\n",
    "- Save Shapash Smartpredictor Object in pickle file\n",
    "- Make a prediction"
   ]
  },
  {
   "cell_type": "code",
   "execution_count": 48,
   "id": "measured-tournament",
   "metadata": {},
   "outputs": [],
   "source": [
    "import seaborn as sns"
   ]
  },
  {
   "cell_type": "code",
   "execution_count": 49,
   "id": "inner-nudist",
   "metadata": {},
   "outputs": [],
   "source": [
    "df=sns.load_dataset('tips')"
   ]
  },
  {
   "cell_type": "code",
   "execution_count": 50,
   "id": "exceptional-shadow",
   "metadata": {},
   "outputs": [
    {
     "data": {
      "text/html": [
       "<div>\n",
       "<style scoped>\n",
       "    .dataframe tbody tr th:only-of-type {\n",
       "        vertical-align: middle;\n",
       "    }\n",
       "\n",
       "    .dataframe tbody tr th {\n",
       "        vertical-align: top;\n",
       "    }\n",
       "\n",
       "    .dataframe thead th {\n",
       "        text-align: right;\n",
       "    }\n",
       "</style>\n",
       "<table border=\"1\" class=\"dataframe\">\n",
       "  <thead>\n",
       "    <tr style=\"text-align: right;\">\n",
       "      <th></th>\n",
       "      <th>total_bill</th>\n",
       "      <th>tip</th>\n",
       "      <th>sex</th>\n",
       "      <th>smoker</th>\n",
       "      <th>day</th>\n",
       "      <th>time</th>\n",
       "      <th>size</th>\n",
       "    </tr>\n",
       "  </thead>\n",
       "  <tbody>\n",
       "    <tr>\n",
       "      <th>0</th>\n",
       "      <td>16.99</td>\n",
       "      <td>1.01</td>\n",
       "      <td>Female</td>\n",
       "      <td>No</td>\n",
       "      <td>Sun</td>\n",
       "      <td>Dinner</td>\n",
       "      <td>2</td>\n",
       "    </tr>\n",
       "    <tr>\n",
       "      <th>1</th>\n",
       "      <td>10.34</td>\n",
       "      <td>1.66</td>\n",
       "      <td>Male</td>\n",
       "      <td>No</td>\n",
       "      <td>Sun</td>\n",
       "      <td>Dinner</td>\n",
       "      <td>3</td>\n",
       "    </tr>\n",
       "    <tr>\n",
       "      <th>2</th>\n",
       "      <td>21.01</td>\n",
       "      <td>3.50</td>\n",
       "      <td>Male</td>\n",
       "      <td>No</td>\n",
       "      <td>Sun</td>\n",
       "      <td>Dinner</td>\n",
       "      <td>3</td>\n",
       "    </tr>\n",
       "    <tr>\n",
       "      <th>3</th>\n",
       "      <td>23.68</td>\n",
       "      <td>3.31</td>\n",
       "      <td>Male</td>\n",
       "      <td>No</td>\n",
       "      <td>Sun</td>\n",
       "      <td>Dinner</td>\n",
       "      <td>2</td>\n",
       "    </tr>\n",
       "    <tr>\n",
       "      <th>4</th>\n",
       "      <td>24.59</td>\n",
       "      <td>3.61</td>\n",
       "      <td>Female</td>\n",
       "      <td>No</td>\n",
       "      <td>Sun</td>\n",
       "      <td>Dinner</td>\n",
       "      <td>4</td>\n",
       "    </tr>\n",
       "  </tbody>\n",
       "</table>\n",
       "</div>"
      ],
      "text/plain": [
       "   total_bill   tip     sex smoker  day    time  size\n",
       "0       16.99  1.01  Female     No  Sun  Dinner     2\n",
       "1       10.34  1.66    Male     No  Sun  Dinner     3\n",
       "2       21.01  3.50    Male     No  Sun  Dinner     3\n",
       "3       23.68  3.31    Male     No  Sun  Dinner     2\n",
       "4       24.59  3.61  Female     No  Sun  Dinner     4"
      ]
     },
     "execution_count": 50,
     "metadata": {},
     "output_type": "execute_result"
    }
   ],
   "source": [
    "df.head()"
   ]
  },
  {
   "cell_type": "code",
   "execution_count": 51,
   "id": "indirect-batman",
   "metadata": {},
   "outputs": [],
   "source": [
    "### Divide the dataset into independent and dependent dataset\n",
    "y=df['tip']\n",
    "X=df[df.columns.difference(['tip'])]"
   ]
  },
  {
   "cell_type": "code",
   "execution_count": 52,
   "id": "israeli-saskatchewan",
   "metadata": {},
   "outputs": [
    {
     "data": {
      "text/html": [
       "<div>\n",
       "<style scoped>\n",
       "    .dataframe tbody tr th:only-of-type {\n",
       "        vertical-align: middle;\n",
       "    }\n",
       "\n",
       "    .dataframe tbody tr th {\n",
       "        vertical-align: top;\n",
       "    }\n",
       "\n",
       "    .dataframe thead th {\n",
       "        text-align: right;\n",
       "    }\n",
       "</style>\n",
       "<table border=\"1\" class=\"dataframe\">\n",
       "  <thead>\n",
       "    <tr style=\"text-align: right;\">\n",
       "      <th></th>\n",
       "      <th>day</th>\n",
       "      <th>sex</th>\n",
       "      <th>size</th>\n",
       "      <th>smoker</th>\n",
       "      <th>time</th>\n",
       "      <th>total_bill</th>\n",
       "    </tr>\n",
       "  </thead>\n",
       "  <tbody>\n",
       "    <tr>\n",
       "      <th>0</th>\n",
       "      <td>Sun</td>\n",
       "      <td>Female</td>\n",
       "      <td>2</td>\n",
       "      <td>No</td>\n",
       "      <td>Dinner</td>\n",
       "      <td>16.99</td>\n",
       "    </tr>\n",
       "    <tr>\n",
       "      <th>1</th>\n",
       "      <td>Sun</td>\n",
       "      <td>Male</td>\n",
       "      <td>3</td>\n",
       "      <td>No</td>\n",
       "      <td>Dinner</td>\n",
       "      <td>10.34</td>\n",
       "    </tr>\n",
       "    <tr>\n",
       "      <th>2</th>\n",
       "      <td>Sun</td>\n",
       "      <td>Male</td>\n",
       "      <td>3</td>\n",
       "      <td>No</td>\n",
       "      <td>Dinner</td>\n",
       "      <td>21.01</td>\n",
       "    </tr>\n",
       "    <tr>\n",
       "      <th>3</th>\n",
       "      <td>Sun</td>\n",
       "      <td>Male</td>\n",
       "      <td>2</td>\n",
       "      <td>No</td>\n",
       "      <td>Dinner</td>\n",
       "      <td>23.68</td>\n",
       "    </tr>\n",
       "    <tr>\n",
       "      <th>4</th>\n",
       "      <td>Sun</td>\n",
       "      <td>Female</td>\n",
       "      <td>4</td>\n",
       "      <td>No</td>\n",
       "      <td>Dinner</td>\n",
       "      <td>24.59</td>\n",
       "    </tr>\n",
       "  </tbody>\n",
       "</table>\n",
       "</div>"
      ],
      "text/plain": [
       "   day     sex  size smoker    time  total_bill\n",
       "0  Sun  Female     2     No  Dinner       16.99\n",
       "1  Sun    Male     3     No  Dinner       10.34\n",
       "2  Sun    Male     3     No  Dinner       21.01\n",
       "3  Sun    Male     2     No  Dinner       23.68\n",
       "4  Sun  Female     4     No  Dinner       24.59"
      ]
     },
     "execution_count": 52,
     "metadata": {},
     "output_type": "execute_result"
    }
   ],
   "source": [
    "X.head()"
   ]
  },
  {
   "cell_type": "code",
   "execution_count": 53,
   "id": "returning-lafayette",
   "metadata": {},
   "outputs": [
    {
     "name": "stdout",
     "output_type": "stream",
     "text": [
      "<class 'pandas.core.frame.DataFrame'>\n",
      "RangeIndex: 244 entries, 0 to 243\n",
      "Data columns (total 7 columns):\n",
      " #   Column      Non-Null Count  Dtype   \n",
      "---  ------      --------------  -----   \n",
      " 0   total_bill  244 non-null    float64 \n",
      " 1   tip         244 non-null    float64 \n",
      " 2   sex         244 non-null    category\n",
      " 3   smoker      244 non-null    category\n",
      " 4   day         244 non-null    category\n",
      " 5   time        244 non-null    category\n",
      " 6   size        244 non-null    int64   \n",
      "dtypes: category(4), float64(2), int64(1)\n",
      "memory usage: 7.4 KB\n"
     ]
    }
   ],
   "source": [
    "df.info()"
   ]
  },
  {
   "cell_type": "code",
   "execution_count": 54,
   "id": "lonely-equivalent",
   "metadata": {},
   "outputs": [
    {
     "name": "stderr",
     "output_type": "stream",
     "text": [
      "<ipython-input-54-94ad230a0023>:1: SettingWithCopyWarning:\n",
      "\n",
      "\n",
      "A value is trying to be set on a copy of a slice from a DataFrame.\n",
      "Try using .loc[row_indexer,col_indexer] = value instead\n",
      "\n",
      "See the caveats in the documentation: https://pandas.pydata.org/pandas-docs/stable/user_guide/indexing.html#returning-a-view-versus-a-copy\n",
      "\n",
      "<ipython-input-54-94ad230a0023>:2: SettingWithCopyWarning:\n",
      "\n",
      "\n",
      "A value is trying to be set on a copy of a slice from a DataFrame.\n",
      "Try using .loc[row_indexer,col_indexer] = value instead\n",
      "\n",
      "See the caveats in the documentation: https://pandas.pydata.org/pandas-docs/stable/user_guide/indexing.html#returning-a-view-versus-a-copy\n",
      "\n",
      "<ipython-input-54-94ad230a0023>:3: SettingWithCopyWarning:\n",
      "\n",
      "\n",
      "A value is trying to be set on a copy of a slice from a DataFrame.\n",
      "Try using .loc[row_indexer,col_indexer] = value instead\n",
      "\n",
      "See the caveats in the documentation: https://pandas.pydata.org/pandas-docs/stable/user_guide/indexing.html#returning-a-view-versus-a-copy\n",
      "\n",
      "<ipython-input-54-94ad230a0023>:4: SettingWithCopyWarning:\n",
      "\n",
      "\n",
      "A value is trying to be set on a copy of a slice from a DataFrame.\n",
      "Try using .loc[row_indexer,col_indexer] = value instead\n",
      "\n",
      "See the caveats in the documentation: https://pandas.pydata.org/pandas-docs/stable/user_guide/indexing.html#returning-a-view-versus-a-copy\n",
      "\n"
     ]
    }
   ],
   "source": [
    "X['day']=X['day'].cat.codes\n",
    "X['sex']=X['sex'].cat.codes\n",
    "X['smoker']=X['smoker'].cat.codes\n",
    "X['time']=X['time'].cat.codes"
   ]
  },
  {
   "cell_type": "code",
   "execution_count": 55,
   "id": "expressed-cartridge",
   "metadata": {},
   "outputs": [
    {
     "data": {
      "text/html": [
       "<div>\n",
       "<style scoped>\n",
       "    .dataframe tbody tr th:only-of-type {\n",
       "        vertical-align: middle;\n",
       "    }\n",
       "\n",
       "    .dataframe tbody tr th {\n",
       "        vertical-align: top;\n",
       "    }\n",
       "\n",
       "    .dataframe thead th {\n",
       "        text-align: right;\n",
       "    }\n",
       "</style>\n",
       "<table border=\"1\" class=\"dataframe\">\n",
       "  <thead>\n",
       "    <tr style=\"text-align: right;\">\n",
       "      <th></th>\n",
       "      <th>day</th>\n",
       "      <th>sex</th>\n",
       "      <th>size</th>\n",
       "      <th>smoker</th>\n",
       "      <th>time</th>\n",
       "      <th>total_bill</th>\n",
       "    </tr>\n",
       "  </thead>\n",
       "  <tbody>\n",
       "    <tr>\n",
       "      <th>0</th>\n",
       "      <td>3</td>\n",
       "      <td>1</td>\n",
       "      <td>2</td>\n",
       "      <td>1</td>\n",
       "      <td>1</td>\n",
       "      <td>16.99</td>\n",
       "    </tr>\n",
       "    <tr>\n",
       "      <th>1</th>\n",
       "      <td>3</td>\n",
       "      <td>0</td>\n",
       "      <td>3</td>\n",
       "      <td>1</td>\n",
       "      <td>1</td>\n",
       "      <td>10.34</td>\n",
       "    </tr>\n",
       "    <tr>\n",
       "      <th>2</th>\n",
       "      <td>3</td>\n",
       "      <td>0</td>\n",
       "      <td>3</td>\n",
       "      <td>1</td>\n",
       "      <td>1</td>\n",
       "      <td>21.01</td>\n",
       "    </tr>\n",
       "    <tr>\n",
       "      <th>3</th>\n",
       "      <td>3</td>\n",
       "      <td>0</td>\n",
       "      <td>2</td>\n",
       "      <td>1</td>\n",
       "      <td>1</td>\n",
       "      <td>23.68</td>\n",
       "    </tr>\n",
       "    <tr>\n",
       "      <th>4</th>\n",
       "      <td>3</td>\n",
       "      <td>1</td>\n",
       "      <td>4</td>\n",
       "      <td>1</td>\n",
       "      <td>1</td>\n",
       "      <td>24.59</td>\n",
       "    </tr>\n",
       "    <tr>\n",
       "      <th>...</th>\n",
       "      <td>...</td>\n",
       "      <td>...</td>\n",
       "      <td>...</td>\n",
       "      <td>...</td>\n",
       "      <td>...</td>\n",
       "      <td>...</td>\n",
       "    </tr>\n",
       "    <tr>\n",
       "      <th>239</th>\n",
       "      <td>2</td>\n",
       "      <td>0</td>\n",
       "      <td>3</td>\n",
       "      <td>1</td>\n",
       "      <td>1</td>\n",
       "      <td>29.03</td>\n",
       "    </tr>\n",
       "    <tr>\n",
       "      <th>240</th>\n",
       "      <td>2</td>\n",
       "      <td>1</td>\n",
       "      <td>2</td>\n",
       "      <td>0</td>\n",
       "      <td>1</td>\n",
       "      <td>27.18</td>\n",
       "    </tr>\n",
       "    <tr>\n",
       "      <th>241</th>\n",
       "      <td>2</td>\n",
       "      <td>0</td>\n",
       "      <td>2</td>\n",
       "      <td>0</td>\n",
       "      <td>1</td>\n",
       "      <td>22.67</td>\n",
       "    </tr>\n",
       "    <tr>\n",
       "      <th>242</th>\n",
       "      <td>2</td>\n",
       "      <td>0</td>\n",
       "      <td>2</td>\n",
       "      <td>1</td>\n",
       "      <td>1</td>\n",
       "      <td>17.82</td>\n",
       "    </tr>\n",
       "    <tr>\n",
       "      <th>243</th>\n",
       "      <td>0</td>\n",
       "      <td>1</td>\n",
       "      <td>2</td>\n",
       "      <td>1</td>\n",
       "      <td>1</td>\n",
       "      <td>18.78</td>\n",
       "    </tr>\n",
       "  </tbody>\n",
       "</table>\n",
       "<p>244 rows × 6 columns</p>\n",
       "</div>"
      ],
      "text/plain": [
       "     day  sex  size  smoker  time  total_bill\n",
       "0      3    1     2       1     1       16.99\n",
       "1      3    0     3       1     1       10.34\n",
       "2      3    0     3       1     1       21.01\n",
       "3      3    0     2       1     1       23.68\n",
       "4      3    1     4       1     1       24.59\n",
       "..   ...  ...   ...     ...   ...         ...\n",
       "239    2    0     3       1     1       29.03\n",
       "240    2    1     2       0     1       27.18\n",
       "241    2    0     2       0     1       22.67\n",
       "242    2    0     2       1     1       17.82\n",
       "243    0    1     2       1     1       18.78\n",
       "\n",
       "[244 rows x 6 columns]"
      ]
     },
     "execution_count": 55,
     "metadata": {},
     "output_type": "execute_result"
    }
   ],
   "source": [
    "X"
   ]
  },
  {
   "cell_type": "code",
   "execution_count": 56,
   "id": "geographic-royalty",
   "metadata": {},
   "outputs": [],
   "source": [
    "### Train Test split\n",
    "from sklearn.model_selection import train_test_split\n",
    "X_train,X_test,y_train,y_test=train_test_split(X,y,train_size=0.75,random_state=1)"
   ]
  },
  {
   "cell_type": "code",
   "execution_count": 57,
   "id": "nonprofit-petite",
   "metadata": {},
   "outputs": [],
   "source": [
    "from sklearn.ensemble import RandomForestRegressor\n",
    "regressor = RandomForestRegressor(n_estimators=200).fit(X_train,y_train)"
   ]
  },
  {
   "cell_type": "markdown",
   "id": "three-corporation",
   "metadata": {},
   "source": [
    "#### Lets Understand Our Model With Shapash \n",
    "In this section, we use the SmartExplainer Object from shapash.\n",
    "\n",
    "- It allows users to understand how the model works with the specified data.\n",
    "- This object must be used only for data mining step. Shapash provides another object for deployment.\n"
   ]
  },
  {
   "cell_type": "code",
   "execution_count": 58,
   "id": "helpful-innocent",
   "metadata": {},
   "outputs": [
    {
     "name": "stdout",
     "output_type": "stream",
     "text": [
      "Requirement already satisfied: shapash in c:\\users\\win10\\anaconda3\\envs\\tensorflow\\lib\\site-packages (1.2.0)\n",
      "Requirement already satisfied: nbformat>4.2.0 in c:\\users\\win10\\anaconda3\\envs\\tensorflow\\lib\\site-packages (from shapash) (5.1.2)\n",
      "Requirement already satisfied: dash-html-components==1.1.1 in c:\\users\\win10\\anaconda3\\envs\\tensorflow\\lib\\site-packages (from shapash) (1.1.1)\n",
      "Requirement already satisfied: shap==0.37.0 in c:\\users\\win10\\anaconda3\\envs\\tensorflow\\lib\\site-packages (from shapash) (0.37.0)\n",
      "Requirement already satisfied: dash-bootstrap-components==0.9.1 in c:\\users\\win10\\anaconda3\\envs\\tensorflow\\lib\\site-packages (from shapash) (0.9.1)\n",
      "Requirement already satisfied: dash-table==4.11.0 in c:\\users\\win10\\anaconda3\\envs\\tensorflow\\lib\\site-packages (from shapash) (4.11.0)\n",
      "Requirement already satisfied: dash-renderer==1.8.3 in c:\\users\\win10\\anaconda3\\envs\\tensorflow\\lib\\site-packages (from shapash) (1.8.3)\n",
      "Requirement already satisfied: dash-core-components==1.13.0 in c:\\users\\win10\\anaconda3\\envs\\tensorflow\\lib\\site-packages (from shapash) (1.13.0)\n",
      "Requirement already satisfied: dash==1.17.0 in c:\\users\\win10\\anaconda3\\envs\\tensorflow\\lib\\site-packages (from shapash) (1.17.0)\n",
      "Requirement already satisfied: numba==0.51.2 in c:\\users\\win10\\anaconda3\\envs\\tensorflow\\lib\\site-packages (from shapash) (0.51.2)\n",
      "Requirement already satisfied: pandas>1.0.2 in c:\\users\\win10\\anaconda3\\envs\\tensorflow\\lib\\site-packages (from shapash) (1.2.1)\n",
      "Requirement already satisfied: dash-daq==0.5.0 in c:\\users\\win10\\anaconda3\\envs\\tensorflow\\lib\\site-packages (from shapash) (0.5.0)\n",
      "Requirement already satisfied: numpy>1.18.0 in c:\\users\\win10\\anaconda3\\envs\\tensorflow\\lib\\site-packages (from shapash) (1.18.5)\n",
      "Requirement already satisfied: plotly==4.12.0 in c:\\users\\win10\\anaconda3\\envs\\tensorflow\\lib\\site-packages (from shapash) (4.12.0)\n",
      "Requirement already satisfied: Flask>=1.0.2 in c:\\users\\win10\\anaconda3\\envs\\tensorflow\\lib\\site-packages (from dash==1.17.0->shapash) (1.1.2)\n",
      "Requirement already satisfied: future in c:\\users\\win10\\anaconda3\\envs\\tensorflow\\lib\\site-packages (from dash==1.17.0->shapash) (0.18.2)\n",
      "Requirement already satisfied: flask-compress in c:\\users\\win10\\anaconda3\\envs\\tensorflow\\lib\\site-packages (from dash==1.17.0->shapash) (1.9.0)\n",
      "Requirement already satisfied: setuptools in c:\\users\\win10\\anaconda3\\envs\\tensorflow\\lib\\site-packages (from numba==0.51.2->shapash) (52.0.0.post20210125)\n",
      "Requirement already satisfied: llvmlite<0.35,>=0.34.0.dev0 in c:\\users\\win10\\anaconda3\\envs\\tensorflow\\lib\\site-packages (from numba==0.51.2->shapash) (0.34.0)\n",
      "Requirement already satisfied: six in c:\\users\\win10\\anaconda3\\envs\\tensorflow\\lib\\site-packages (from plotly==4.12.0->shapash) (1.15.0)\n",
      "Requirement already satisfied: retrying>=1.3.3 in c:\\users\\win10\\anaconda3\\envs\\tensorflow\\lib\\site-packages (from plotly==4.12.0->shapash) (1.3.3)\n",
      "Requirement already satisfied: slicer==0.0.3 in c:\\users\\win10\\anaconda3\\envs\\tensorflow\\lib\\site-packages (from shap==0.37.0->shapash) (0.0.3)\n",
      "Requirement already satisfied: scikit-learn in c:\\users\\win10\\anaconda3\\envs\\tensorflow\\lib\\site-packages (from shap==0.37.0->shapash) (0.24.1)\n",
      "Requirement already satisfied: scipy in c:\\users\\win10\\anaconda3\\envs\\tensorflow\\lib\\site-packages (from shap==0.37.0->shapash) (1.4.1)\n",
      "Requirement already satisfied: tqdm>4.25.0 in c:\\users\\win10\\anaconda3\\envs\\tensorflow\\lib\\site-packages (from shap==0.37.0->shapash) (4.56.0)\n",
      "Requirement already satisfied: click>=5.1 in c:\\users\\win10\\anaconda3\\envs\\tensorflow\\lib\\site-packages (from Flask>=1.0.2->dash==1.17.0->shapash) (7.1.2)\n",
      "Requirement already satisfied: Werkzeug>=0.15 in c:\\users\\win10\\anaconda3\\envs\\tensorflow\\lib\\site-packages (from Flask>=1.0.2->dash==1.17.0->shapash) (1.0.1)\n",
      "Requirement already satisfied: itsdangerous>=0.24 in c:\\users\\win10\\anaconda3\\envs\\tensorflow\\lib\\site-packages (from Flask>=1.0.2->dash==1.17.0->shapash) (1.1.0)\n",
      "Requirement already satisfied: Jinja2>=2.10.1 in c:\\users\\win10\\anaconda3\\envs\\tensorflow\\lib\\site-packages (from Flask>=1.0.2->dash==1.17.0->shapash) (2.11.3)\n",
      "Requirement already satisfied: MarkupSafe>=0.23 in c:\\users\\win10\\anaconda3\\envs\\tensorflow\\lib\\site-packages (from Jinja2>=2.10.1->Flask>=1.0.2->dash==1.17.0->shapash) (1.1.1)\n",
      "Requirement already satisfied: traitlets>=4.1 in c:\\users\\win10\\anaconda3\\envs\\tensorflow\\lib\\site-packages (from nbformat>4.2.0->shapash) (5.0.5)\n",
      "Requirement already satisfied: ipython-genutils in c:\\users\\win10\\anaconda3\\envs\\tensorflow\\lib\\site-packages (from nbformat>4.2.0->shapash) (0.2.0)\n",
      "Requirement already satisfied: jupyter-core in c:\\users\\win10\\anaconda3\\envs\\tensorflow\\lib\\site-packages (from nbformat>4.2.0->shapash) (4.7.1)\n",
      "Requirement already satisfied: jsonschema!=2.5.0,>=2.4 in c:\\users\\win10\\anaconda3\\envs\\tensorflow\\lib\\site-packages (from nbformat>4.2.0->shapash) (3.2.0)\n",
      "Requirement already satisfied: attrs>=17.4.0 in c:\\users\\win10\\anaconda3\\envs\\tensorflow\\lib\\site-packages (from jsonschema!=2.5.0,>=2.4->nbformat>4.2.0->shapash) (20.3.0)\n",
      "Requirement already satisfied: pyrsistent>=0.14.0 in c:\\users\\win10\\anaconda3\\envs\\tensorflow\\lib\\site-packages (from jsonschema!=2.5.0,>=2.4->nbformat>4.2.0->shapash) (0.17.3)\n",
      "Requirement already satisfied: python-dateutil>=2.7.3 in c:\\users\\win10\\anaconda3\\envs\\tensorflow\\lib\\site-packages (from pandas>1.0.2->shapash) (2.8.1)\n",
      "Requirement already satisfied: pytz>=2017.3 in c:\\users\\win10\\anaconda3\\envs\\tensorflow\\lib\\site-packages (from pandas>1.0.2->shapash) (2021.1)\n",
      "Requirement already satisfied: brotli in c:\\users\\win10\\anaconda3\\envs\\tensorflow\\lib\\site-packages (from flask-compress->dash==1.17.0->shapash) (1.0.9)\n",
      "Requirement already satisfied: pywin32>=1.0 in c:\\users\\win10\\anaconda3\\envs\\tensorflow\\lib\\site-packages (from jupyter-core->nbformat>4.2.0->shapash) (300)\n",
      "Requirement already satisfied: joblib>=0.11 in c:\\users\\win10\\anaconda3\\envs\\tensorflow\\lib\\site-packages (from scikit-learn->shap==0.37.0->shapash) (1.0.0)\n",
      "Requirement already satisfied: threadpoolctl>=2.0.0 in c:\\users\\win10\\anaconda3\\envs\\tensorflow\\lib\\site-packages (from scikit-learn->shap==0.37.0->shapash) (2.1.0)\n"
     ]
    }
   ],
   "source": [
    "!pip install shapash"
   ]
  },
  {
   "cell_type": "code",
   "execution_count": 59,
   "id": "played-audit",
   "metadata": {},
   "outputs": [],
   "source": [
    "from shapash.explainer.smart_explainer import SmartExplainer"
   ]
  },
  {
   "cell_type": "code",
   "execution_count": 60,
   "id": "powerful-dependence",
   "metadata": {},
   "outputs": [],
   "source": [
    "xpl = SmartExplainer()"
   ]
  },
  {
   "cell_type": "code",
   "execution_count": 63,
   "id": "improved-personal",
   "metadata": {},
   "outputs": [
    {
     "name": "stdout",
     "output_type": "stream",
     "text": [
      "Backend: Shap TreeExplainer\n"
     ]
    }
   ],
   "source": [
    "xpl.compile(\n",
    "    x=X_test,\n",
    "    model=regressor,\n",
    "   \n",
    ")"
   ]
  },
  {
   "cell_type": "code",
   "execution_count": 64,
   "id": "civic-magnet",
   "metadata": {},
   "outputs": [
    {
     "data": {
      "text/plain": [
       "<shapash.explainer.smart_explainer.SmartExplainer at 0x1c49e401a30>"
      ]
     },
     "execution_count": 64,
     "metadata": {},
     "output_type": "execute_result"
    }
   ],
   "source": [
    "xpl"
   ]
  },
  {
   "cell_type": "markdown",
   "id": "facial-interstate",
   "metadata": {},
   "source": [
    "#### Lets Understand the results of your trained model\n",
    "Then, we can easily get a first summary of the explanation of the model results.\n",
    "\n",
    "- Here, we chose to get the 3 most contributive features for each prediction.\n",
    "- We used a wording to get features names more understandable in operationnal case."
   ]
  },
  {
   "cell_type": "code",
   "execution_count": 65,
   "id": "august-contributor",
   "metadata": {},
   "outputs": [
    {
     "name": "stderr",
     "output_type": "stream",
     "text": [
      "C:\\Users\\win10\\anaconda3\\envs\\tensorflow\\lib\\site-packages\\pandas\\core\\frame.py:1549: FutureWarning:\n",
      "\n",
      "Using short name for 'orient' is deprecated. Only the options: ('dict', list, 'series', 'split', 'records', 'index') will be used in a future version. Use one of the above to silence this warning.\n",
      "\n",
      "INFO:root:Your Shapash application run on http://DESKTOP-6UM7HAR:8050/\n"
     ]
    },
    {
     "name": "stdout",
     "output_type": "stream",
     "text": [
      "Dash is running on http://0.0.0.0:8050/\n",
      "\n"
     ]
    },
    {
     "name": "stderr",
     "output_type": "stream",
     "text": [
      "INFO:root:Use the method .kill() to down your app.\n"
     ]
    },
    {
     "name": "stdout",
     "output_type": "stream",
     "text": [
      "Dash is running on http://0.0.0.0:8050/\n",
      "\n",
      "Dash is running on http://0.0.0.0:8050/\n",
      "\n"
     ]
    },
    {
     "name": "stderr",
     "output_type": "stream",
     "text": [
      "INFO:shapash.webapp.smart_app:Dash is running on http://0.0.0.0:8050/\n",
      "\n"
     ]
    },
    {
     "name": "stdout",
     "output_type": "stream",
     "text": [
      " * Serving Flask app \"shapash.webapp.smart_app\" (lazy loading)\n",
      " * Environment: production\n",
      "   WARNING: This is a development server. Do not use it in a production deployment.\n",
      "   Use a production WSGI server instead.\n",
      " * Debug mode: off\n"
     ]
    },
    {
     "name": "stderr",
     "output_type": "stream",
     "text": [
      "INFO:werkzeug: * Running on http://0.0.0.0:8050/ (Press CTRL+C to quit)\n",
      "INFO:werkzeug:192.168.0.136 - - [06/Apr/2021 15:52:53] \"\u001b[37mGET / HTTP/1.1\u001b[0m\" 200 -\n",
      "INFO:werkzeug:192.168.0.136 - - [06/Apr/2021 15:52:53] \"\u001b[37mGET /_dash-dependencies HTTP/1.1\u001b[0m\" 200 -\n",
      "INFO:werkzeug:192.168.0.136 - - [06/Apr/2021 15:52:53] \"\u001b[37mGET /_dash-layout HTTP/1.1\u001b[0m\" 200 -\n",
      "INFO:werkzeug:192.168.0.136 - - [06/Apr/2021 15:52:53] \"\u001b[37mPOST /_dash-update-component HTTP/1.1\u001b[0m\" 200 -\n",
      "INFO:werkzeug:192.168.0.136 - - [06/Apr/2021 15:52:53] \"\u001b[37mPOST /_dash-update-component HTTP/1.1\u001b[0m\" 200 -\n",
      "INFO:werkzeug:192.168.0.136 - - [06/Apr/2021 15:52:53] \"\u001b[37mPOST /_dash-update-component HTTP/1.1\u001b[0m\" 200 -\n",
      "INFO:werkzeug:192.168.0.136 - - [06/Apr/2021 15:52:53] \"\u001b[37mPOST /_dash-update-component HTTP/1.1\u001b[0m\" 200 -\n",
      "INFO:werkzeug:192.168.0.136 - - [06/Apr/2021 15:52:53] \"\u001b[37mPOST /_dash-update-component HTTP/1.1\u001b[0m\" 200 -\n",
      "INFO:werkzeug:192.168.0.136 - - [06/Apr/2021 15:52:53] \"\u001b[37mPOST /_dash-update-component HTTP/1.1\u001b[0m\" 200 -\n",
      "INFO:werkzeug:192.168.0.136 - - [06/Apr/2021 15:52:53] \"\u001b[37mPOST /_dash-update-component HTTP/1.1\u001b[0m\" 200 -\n",
      "INFO:werkzeug:192.168.0.136 - - [06/Apr/2021 15:52:53] \"\u001b[37mPOST /_dash-update-component HTTP/1.1\u001b[0m\" 200 -\n",
      "INFO:werkzeug:192.168.0.136 - - [06/Apr/2021 15:52:53] \"\u001b[37mPOST /_dash-update-component HTTP/1.1\u001b[0m\" 200 -\n",
      "INFO:werkzeug:192.168.0.136 - - [06/Apr/2021 15:52:53] \"\u001b[37mPOST /_dash-update-component HTTP/1.1\u001b[0m\" 200 -\n",
      "INFO:werkzeug:192.168.0.136 - - [06/Apr/2021 15:52:53] \"\u001b[37mPOST /_dash-update-component HTTP/1.1\u001b[0m\" 200 -\n",
      "INFO:werkzeug:192.168.0.136 - - [06/Apr/2021 15:52:53] \"\u001b[37mPOST /_dash-update-component HTTP/1.1\u001b[0m\" 200 -\n",
      "INFO:werkzeug:192.168.0.136 - - [06/Apr/2021 15:52:53] \"\u001b[37mPOST /_dash-update-component HTTP/1.1\u001b[0m\" 200 -\n",
      "INFO:werkzeug:192.168.0.136 - - [06/Apr/2021 15:52:53] \"\u001b[37mPOST /_dash-update-component HTTP/1.1\u001b[0m\" 200 -\n",
      "INFO:werkzeug:192.168.0.136 - - [06/Apr/2021 15:52:53] \"\u001b[37mPOST /_dash-update-component HTTP/1.1\u001b[0m\" 200 -\n",
      "INFO:werkzeug:192.168.0.136 - - [06/Apr/2021 15:52:53] \"\u001b[37mPOST /_dash-update-component HTTP/1.1\u001b[0m\" 200 -\n",
      "INFO:werkzeug:192.168.0.136 - - [06/Apr/2021 15:52:53] \"\u001b[37mPOST /_dash-update-component HTTP/1.1\u001b[0m\" 200 -\n",
      "INFO:werkzeug:192.168.0.136 - - [06/Apr/2021 15:52:53] \"\u001b[37mPOST /_dash-update-component HTTP/1.1\u001b[0m\" 200 -\n",
      "INFO:werkzeug:192.168.0.136 - - [06/Apr/2021 15:52:53] \"\u001b[37mPOST /_dash-update-component HTTP/1.1\u001b[0m\" 200 -\n",
      "INFO:werkzeug:192.168.0.136 - - [06/Apr/2021 15:53:08] \"\u001b[37mPOST /_dash-update-component HTTP/1.1\u001b[0m\" 200 -\n",
      "INFO:werkzeug:192.168.137.1 - - [06/Apr/2021 15:53:55] \"\u001b[37mPOST /_dash-update-component HTTP/1.1\u001b[0m\" 200 -\n",
      "INFO:werkzeug:192.168.137.1 - - [06/Apr/2021 15:54:05] \"\u001b[37mPOST /_dash-update-component HTTP/1.1\u001b[0m\" 200 -\n",
      "INFO:werkzeug:192.168.137.1 - - [06/Apr/2021 15:54:06] \"\u001b[37mPOST /_dash-update-component HTTP/1.1\u001b[0m\" 200 -\n",
      "INFO:werkzeug:192.168.137.1 - - [06/Apr/2021 15:54:06] \"\u001b[37mPOST /_dash-update-component HTTP/1.1\u001b[0m\" 200 -\n",
      "INFO:werkzeug:192.168.137.1 - - [06/Apr/2021 15:54:06] \"\u001b[37mPOST /_dash-update-component HTTP/1.1\u001b[0m\" 200 -\n",
      "INFO:werkzeug:192.168.137.1 - - [06/Apr/2021 15:54:13] \"\u001b[37mPOST /_dash-update-component HTTP/1.1\u001b[0m\" 200 -\n",
      "INFO:werkzeug:192.168.137.1 - - [06/Apr/2021 15:54:14] \"\u001b[37mPOST /_dash-update-component HTTP/1.1\u001b[0m\" 200 -\n",
      "INFO:werkzeug:192.168.137.1 - - [06/Apr/2021 15:54:14] \"\u001b[37mPOST /_dash-update-component HTTP/1.1\u001b[0m\" 200 -\n",
      "INFO:werkzeug:192.168.137.1 - - [06/Apr/2021 15:54:14] \"\u001b[37mPOST /_dash-update-component HTTP/1.1\u001b[0m\" 200 -\n",
      "INFO:werkzeug:192.168.137.1 - - [06/Apr/2021 15:54:15] \"\u001b[37mPOST /_dash-update-component HTTP/1.1\u001b[0m\" 200 -\n",
      "INFO:werkzeug:192.168.137.1 - - [06/Apr/2021 15:54:16] \"\u001b[37mPOST /_dash-update-component HTTP/1.1\u001b[0m\" 200 -\n",
      "INFO:werkzeug:192.168.137.1 - - [06/Apr/2021 15:54:16] \"\u001b[37mPOST /_dash-update-component HTTP/1.1\u001b[0m\" 200 -\n",
      "INFO:werkzeug:192.168.137.1 - - [06/Apr/2021 15:54:16] \"\u001b[37mPOST /_dash-update-component HTTP/1.1\u001b[0m\" 200 -\n",
      "INFO:werkzeug:192.168.137.1 - - [06/Apr/2021 15:54:20] \"\u001b[37mPOST /_dash-update-component HTTP/1.1\u001b[0m\" 200 -\n",
      "INFO:werkzeug:192.168.137.1 - - [06/Apr/2021 15:54:20] \"\u001b[37mPOST /_dash-update-component HTTP/1.1\u001b[0m\" 200 -\n",
      "INFO:werkzeug:192.168.137.1 - - [06/Apr/2021 15:54:20] \"\u001b[37mPOST /_dash-update-component HTTP/1.1\u001b[0m\" 200 -\n",
      "INFO:werkzeug:192.168.137.1 - - [06/Apr/2021 15:54:21] \"\u001b[37mPOST /_dash-update-component HTTP/1.1\u001b[0m\" 200 -\n",
      "INFO:werkzeug:192.168.137.1 - - [06/Apr/2021 15:54:21] \"\u001b[37mPOST /_dash-update-component HTTP/1.1\u001b[0m\" 200 -\n",
      "INFO:werkzeug:192.168.137.1 - - [06/Apr/2021 15:54:22] \"\u001b[37mPOST /_dash-update-component HTTP/1.1\u001b[0m\" 200 -\n",
      "INFO:werkzeug:192.168.137.1 - - [06/Apr/2021 15:54:22] \"\u001b[37mPOST /_dash-update-component HTTP/1.1\u001b[0m\" 200 -\n",
      "INFO:werkzeug:192.168.137.1 - - [06/Apr/2021 15:54:22] \"\u001b[37mPOST /_dash-update-component HTTP/1.1\u001b[0m\" 200 -\n",
      "INFO:werkzeug:192.168.137.1 - - [06/Apr/2021 15:54:24] \"\u001b[37mPOST /_dash-update-component HTTP/1.1\u001b[0m\" 200 -\n",
      "INFO:werkzeug:192.168.137.1 - - [06/Apr/2021 15:54:29] \"\u001b[37mPOST /_dash-update-component HTTP/1.1\u001b[0m\" 200 -\n",
      "INFO:werkzeug:192.168.137.1 - - [06/Apr/2021 15:54:30] \"\u001b[37mPOST /_dash-update-component HTTP/1.1\u001b[0m\" 200 -\n",
      "INFO:werkzeug:192.168.137.1 - - [06/Apr/2021 15:54:30] \"\u001b[37mPOST /_dash-update-component HTTP/1.1\u001b[0m\" 204 -\n",
      "INFO:werkzeug:192.168.137.1 - - [06/Apr/2021 15:54:30] \"\u001b[37mPOST /_dash-update-component HTTP/1.1\u001b[0m\" 200 -\n",
      "INFO:werkzeug:192.168.137.1 - - [06/Apr/2021 15:54:30] \"\u001b[37mPOST /_dash-update-component HTTP/1.1\u001b[0m\" 200 -\n",
      "INFO:werkzeug:192.168.137.1 - - [06/Apr/2021 15:54:30] \"\u001b[37mPOST /_dash-update-component HTTP/1.1\u001b[0m\" 200 -\n",
      "INFO:werkzeug:192.168.137.1 - - [06/Apr/2021 15:54:30] \"\u001b[37mPOST /_dash-update-component HTTP/1.1\u001b[0m\" 200 -\n",
      "INFO:werkzeug:192.168.137.1 - - [06/Apr/2021 15:54:31] \"\u001b[37mPOST /_dash-update-component HTTP/1.1\u001b[0m\" 200 -\n",
      "INFO:werkzeug:192.168.137.1 - - [06/Apr/2021 15:54:31] \"\u001b[37mPOST /_dash-update-component HTTP/1.1\u001b[0m\" 200 -\n",
      "INFO:werkzeug:192.168.137.1 - - [06/Apr/2021 15:54:32] \"\u001b[37mPOST /_dash-update-component HTTP/1.1\u001b[0m\" 200 -\n",
      "INFO:werkzeug:192.168.137.1 - - [06/Apr/2021 15:54:51] \"\u001b[37mPOST /_dash-update-component HTTP/1.1\u001b[0m\" 200 -\n",
      "INFO:werkzeug:127.0.0.1 - - [06/Apr/2021 15:55:30] \"\u001b[37mPOST /_dash-update-component HTTP/1.1\u001b[0m\" 200 -\n",
      "INFO:werkzeug:192.168.0.136 - - [06/Apr/2021 15:55:39] \"\u001b[37mPOST /_dash-update-component HTTP/1.1\u001b[0m\" 200 -\n",
      "INFO:werkzeug:192.168.0.136 - - [06/Apr/2021 15:55:43] \"\u001b[37mPOST /_dash-update-component HTTP/1.1\u001b[0m\" 200 -\n",
      "INFO:werkzeug:192.168.0.136 - - [06/Apr/2021 15:55:57] \"\u001b[37mPOST /_dash-update-component HTTP/1.1\u001b[0m\" 200 -\n",
      "INFO:werkzeug:192.168.0.136 - - [06/Apr/2021 15:55:59] \"\u001b[37mPOST /_dash-update-component HTTP/1.1\u001b[0m\" 200 -\n",
      "INFO:werkzeug:192.168.0.136 - - [06/Apr/2021 15:55:59] \"\u001b[37mPOST /_dash-update-component HTTP/1.1\u001b[0m\" 200 -\n",
      "INFO:werkzeug:192.168.0.136 - - [06/Apr/2021 15:55:59] \"\u001b[37mPOST /_dash-update-component HTTP/1.1\u001b[0m\" 200 -\n",
      "INFO:werkzeug:192.168.0.136 - - [06/Apr/2021 15:55:59] \"\u001b[37mPOST /_dash-update-component HTTP/1.1\u001b[0m\" 200 -\n",
      "INFO:werkzeug:192.168.0.136 - - [06/Apr/2021 15:56:01] \"\u001b[37mPOST /_dash-update-component HTTP/1.1\u001b[0m\" 200 -\n",
      "INFO:werkzeug:192.168.0.136 - - [06/Apr/2021 15:56:01] \"\u001b[37mPOST /_dash-update-component HTTP/1.1\u001b[0m\" 200 -\n",
      "INFO:werkzeug:192.168.0.136 - - [06/Apr/2021 15:56:01] \"\u001b[37mPOST /_dash-update-component HTTP/1.1\u001b[0m\" 200 -\n",
      "INFO:werkzeug:192.168.0.136 - - [06/Apr/2021 15:56:01] \"\u001b[37mPOST /_dash-update-component HTTP/1.1\u001b[0m\" 200 -\n",
      "INFO:werkzeug:192.168.0.136 - - [06/Apr/2021 15:56:03] \"\u001b[37mPOST /_dash-update-component HTTP/1.1\u001b[0m\" 200 -\n",
      "INFO:werkzeug:192.168.0.136 - - [06/Apr/2021 15:56:03] \"\u001b[37mPOST /_dash-update-component HTTP/1.1\u001b[0m\" 200 -\n",
      "INFO:werkzeug:192.168.0.136 - - [06/Apr/2021 15:56:03] \"\u001b[37mPOST /_dash-update-component HTTP/1.1\u001b[0m\" 200 -\n",
      "INFO:werkzeug:192.168.0.136 - - [06/Apr/2021 15:56:03] \"\u001b[37mPOST /_dash-update-component HTTP/1.1\u001b[0m\" 200 -\n",
      "INFO:werkzeug:192.168.0.136 - - [06/Apr/2021 15:56:03] \"\u001b[37mPOST /_dash-update-component HTTP/1.1\u001b[0m\" 200 -\n",
      "INFO:werkzeug:192.168.0.136 - - [06/Apr/2021 15:56:03] \"\u001b[37mPOST /_dash-update-component HTTP/1.1\u001b[0m\" 200 -\n",
      "INFO:werkzeug:192.168.0.136 - - [06/Apr/2021 15:56:03] \"\u001b[37mPOST /_dash-update-component HTTP/1.1\u001b[0m\" 200 -\n"
     ]
    },
    {
     "name": "stderr",
     "output_type": "stream",
     "text": [
      "INFO:werkzeug:192.168.0.136 - - [06/Apr/2021 15:56:03] \"\u001b[37mPOST /_dash-update-component HTTP/1.1\u001b[0m\" 200 -\n",
      "INFO:werkzeug:192.168.0.136 - - [06/Apr/2021 15:56:10] \"\u001b[37mPOST /_dash-update-component HTTP/1.1\u001b[0m\" 200 -\n",
      "INFO:werkzeug:192.168.0.136 - - [06/Apr/2021 15:56:38] \"\u001b[37mPOST /_dash-update-component HTTP/1.1\u001b[0m\" 200 -\n",
      "INFO:werkzeug:192.168.0.136 - - [06/Apr/2021 15:56:44] \"\u001b[37mPOST /_dash-update-component HTTP/1.1\u001b[0m\" 200 -\n",
      "INFO:werkzeug:192.168.0.136 - - [06/Apr/2021 15:56:44] \"\u001b[37mPOST /_dash-update-component HTTP/1.1\u001b[0m\" 200 -\n",
      "INFO:werkzeug:192.168.0.136 - - [06/Apr/2021 15:56:57] \"\u001b[37mPOST /_dash-update-component HTTP/1.1\u001b[0m\" 200 -\n",
      "INFO:werkzeug:192.168.0.136 - - [06/Apr/2021 15:56:57] \"\u001b[37mPOST /_dash-update-component HTTP/1.1\u001b[0m\" 200 -\n",
      "INFO:werkzeug:192.168.0.136 - - [06/Apr/2021 15:57:03] \"\u001b[37mPOST /_dash-update-component HTTP/1.1\u001b[0m\" 200 -\n",
      "INFO:werkzeug:192.168.0.136 - - [06/Apr/2021 15:57:03] \"\u001b[37mPOST /_dash-update-component HTTP/1.1\u001b[0m\" 200 -\n",
      "INFO:werkzeug:192.168.0.136 - - [06/Apr/2021 15:57:04] \"\u001b[37mPOST /_dash-update-component HTTP/1.1\u001b[0m\" 200 -\n",
      "INFO:werkzeug:192.168.0.136 - - [06/Apr/2021 15:57:08] \"\u001b[37mPOST /_dash-update-component HTTP/1.1\u001b[0m\" 200 -\n",
      "INFO:werkzeug:192.168.0.136 - - [06/Apr/2021 15:57:08] \"\u001b[37mPOST /_dash-update-component HTTP/1.1\u001b[0m\" 200 -\n",
      "INFO:werkzeug:192.168.0.136 - - [06/Apr/2021 15:57:15] \"\u001b[37mPOST /_dash-update-component HTTP/1.1\u001b[0m\" 200 -\n",
      "INFO:werkzeug:192.168.0.136 - - [06/Apr/2021 15:57:16] \"\u001b[37mPOST /_dash-update-component HTTP/1.1\u001b[0m\" 200 -\n",
      "INFO:werkzeug:192.168.0.136 - - [06/Apr/2021 15:57:22] \"\u001b[37mPOST /_dash-update-component HTTP/1.1\u001b[0m\" 200 -\n",
      "INFO:werkzeug:192.168.0.136 - - [06/Apr/2021 15:57:26] \"\u001b[37mPOST /_dash-update-component HTTP/1.1\u001b[0m\" 200 -\n"
     ]
    }
   ],
   "source": [
    "app = xpl.run_app(title_story='Tips Dataset')"
   ]
  },
  {
   "cell_type": "code",
   "execution_count": 66,
   "id": "marked-avatar",
   "metadata": {},
   "outputs": [],
   "source": [
    "predictor = xpl.to_smartpredictor()"
   ]
  },
  {
   "cell_type": "code",
   "execution_count": 67,
   "id": "divided-artist",
   "metadata": {},
   "outputs": [],
   "source": [
    "predictor.save('./predictor.pkl')"
   ]
  },
  {
   "cell_type": "code",
   "execution_count": 68,
   "id": "antique-context",
   "metadata": {},
   "outputs": [],
   "source": [
    "from shapash.utils.load_smartpredictor import load_smartpredictor\n",
    "predictor_load = load_smartpredictor('./predictor.pkl')"
   ]
  },
  {
   "cell_type": "markdown",
   "id": "electric-vocabulary",
   "metadata": {},
   "source": [
    "#### Make a prediction with your SmartPredictor\n",
    "In order to make new predictions and summarize local explainability of your model on new datasets, you can use the method add_input of the SmartPredictor.\n",
    "\n",
    "- The add_input method is the first step to add a dataset for prediction and explainability.\n",
    "- It checks the structure of the dataset, the prediction and the contribution if specified.\n",
    "- It applies the preprocessing specified in the initialisation and reorder the features with the order used by the model. (see the documentation of this method)\n",
    "- In API mode, this method can handle dictionnaries data which can be received from a GET or a POST request.\n",
    "- Add data\n",
    "- The x input in add_input method doesn't have to be encoded, add_input applies preprocessing."
   ]
  },
  {
   "cell_type": "code",
   "execution_count": 69,
   "id": "electronic-tattoo",
   "metadata": {},
   "outputs": [],
   "source": [
    "predictor_load.add_input(x=X, ypred=y)"
   ]
  },
  {
   "cell_type": "code",
   "execution_count": 70,
   "id": "developmental-consistency",
   "metadata": {},
   "outputs": [],
   "source": [
    "detailed_contributions = predictor_load.detail_contributions()\n"
   ]
  },
  {
   "cell_type": "code",
   "execution_count": 71,
   "id": "lesser-consensus",
   "metadata": {},
   "outputs": [
    {
     "data": {
      "text/html": [
       "<div>\n",
       "<style scoped>\n",
       "    .dataframe tbody tr th:only-of-type {\n",
       "        vertical-align: middle;\n",
       "    }\n",
       "\n",
       "    .dataframe tbody tr th {\n",
       "        vertical-align: top;\n",
       "    }\n",
       "\n",
       "    .dataframe thead th {\n",
       "        text-align: right;\n",
       "    }\n",
       "</style>\n",
       "<table border=\"1\" class=\"dataframe\">\n",
       "  <thead>\n",
       "    <tr style=\"text-align: right;\">\n",
       "      <th></th>\n",
       "      <th>tip</th>\n",
       "      <th>day</th>\n",
       "      <th>sex</th>\n",
       "      <th>size</th>\n",
       "      <th>smoker</th>\n",
       "      <th>time</th>\n",
       "      <th>total_bill</th>\n",
       "    </tr>\n",
       "  </thead>\n",
       "  <tbody>\n",
       "    <tr>\n",
       "      <th>0</th>\n",
       "      <td>1.01</td>\n",
       "      <td>0.058890</td>\n",
       "      <td>0.107123</td>\n",
       "      <td>-0.021913</td>\n",
       "      <td>-0.032742</td>\n",
       "      <td>-0.005985</td>\n",
       "      <td>0.183477</td>\n",
       "    </tr>\n",
       "    <tr>\n",
       "      <th>1</th>\n",
       "      <td>1.66</td>\n",
       "      <td>0.083062</td>\n",
       "      <td>-0.058770</td>\n",
       "      <td>0.003739</td>\n",
       "      <td>-0.062743</td>\n",
       "      <td>-0.018027</td>\n",
       "      <td>-1.230111</td>\n",
       "    </tr>\n",
       "    <tr>\n",
       "      <th>2</th>\n",
       "      <td>3.50</td>\n",
       "      <td>0.084890</td>\n",
       "      <td>-0.021616</td>\n",
       "      <td>-0.005301</td>\n",
       "      <td>-0.008053</td>\n",
       "      <td>0.006988</td>\n",
       "      <td>0.428840</td>\n",
       "    </tr>\n",
       "    <tr>\n",
       "      <th>3</th>\n",
       "      <td>3.31</td>\n",
       "      <td>0.125816</td>\n",
       "      <td>-0.021922</td>\n",
       "      <td>-0.043787</td>\n",
       "      <td>0.022929</td>\n",
       "      <td>0.007135</td>\n",
       "      <td>0.074177</td>\n",
       "    </tr>\n",
       "    <tr>\n",
       "      <th>4</th>\n",
       "      <td>3.61</td>\n",
       "      <td>0.048222</td>\n",
       "      <td>0.058356</td>\n",
       "      <td>-0.053819</td>\n",
       "      <td>-0.006406</td>\n",
       "      <td>-0.006721</td>\n",
       "      <td>-0.319232</td>\n",
       "    </tr>\n",
       "  </tbody>\n",
       "</table>\n",
       "</div>"
      ],
      "text/plain": [
       "    tip       day       sex      size    smoker      time  total_bill\n",
       "0  1.01  0.058890  0.107123 -0.021913 -0.032742 -0.005985    0.183477\n",
       "1  1.66  0.083062 -0.058770  0.003739 -0.062743 -0.018027   -1.230111\n",
       "2  3.50  0.084890 -0.021616 -0.005301 -0.008053  0.006988    0.428840\n",
       "3  3.31  0.125816 -0.021922 -0.043787  0.022929  0.007135    0.074177\n",
       "4  3.61  0.048222  0.058356 -0.053819 -0.006406 -0.006721   -0.319232"
      ]
     },
     "execution_count": 71,
     "metadata": {},
     "output_type": "execute_result"
    }
   ],
   "source": [
    "detailed_contributions.head()"
   ]
  },
  {
   "cell_type": "markdown",
   "id": "national-questionnaire",
   "metadata": {},
   "source": [
    "#### Summarize explanability of the predictions\n",
    "- You can use the summarize method to summarize your local explainability\n",
    "- This summary can be configured with modify_mask method so that you have explainability that meets your operational needs."
   ]
  },
  {
   "cell_type": "code",
   "execution_count": 72,
   "id": "realistic-characteristic",
   "metadata": {},
   "outputs": [],
   "source": [
    "\n",
    "predictor_load.modify_mask(max_contrib=3)"
   ]
  },
  {
   "cell_type": "code",
   "execution_count": 73,
   "id": "embedded-bradley",
   "metadata": {},
   "outputs": [],
   "source": [
    "explanation = predictor_load.summarize()"
   ]
  },
  {
   "cell_type": "code",
   "execution_count": 74,
   "id": "classical-fleece",
   "metadata": {},
   "outputs": [
    {
     "data": {
      "text/html": [
       "<div>\n",
       "<style scoped>\n",
       "    .dataframe tbody tr th:only-of-type {\n",
       "        vertical-align: middle;\n",
       "    }\n",
       "\n",
       "    .dataframe tbody tr th {\n",
       "        vertical-align: top;\n",
       "    }\n",
       "\n",
       "    .dataframe thead th {\n",
       "        text-align: right;\n",
       "    }\n",
       "</style>\n",
       "<table border=\"1\" class=\"dataframe\">\n",
       "  <thead>\n",
       "    <tr style=\"text-align: right;\">\n",
       "      <th></th>\n",
       "      <th>tip</th>\n",
       "      <th>feature_1</th>\n",
       "      <th>value_1</th>\n",
       "      <th>contribution_1</th>\n",
       "      <th>feature_2</th>\n",
       "      <th>value_2</th>\n",
       "      <th>contribution_2</th>\n",
       "      <th>feature_3</th>\n",
       "      <th>value_3</th>\n",
       "      <th>contribution_3</th>\n",
       "    </tr>\n",
       "  </thead>\n",
       "  <tbody>\n",
       "    <tr>\n",
       "      <th>0</th>\n",
       "      <td>1.01</td>\n",
       "      <td>total_bill</td>\n",
       "      <td>16.99</td>\n",
       "      <td>0.183477</td>\n",
       "      <td>sex</td>\n",
       "      <td>1.0</td>\n",
       "      <td>0.107123</td>\n",
       "      <td>day</td>\n",
       "      <td>3.0</td>\n",
       "      <td>0.05889</td>\n",
       "    </tr>\n",
       "    <tr>\n",
       "      <th>1</th>\n",
       "      <td>1.66</td>\n",
       "      <td>total_bill</td>\n",
       "      <td>10.34</td>\n",
       "      <td>-1.230111</td>\n",
       "      <td>day</td>\n",
       "      <td>3.0</td>\n",
       "      <td>0.083062</td>\n",
       "      <td>smoker</td>\n",
       "      <td>1.0</td>\n",
       "      <td>-0.062743</td>\n",
       "    </tr>\n",
       "    <tr>\n",
       "      <th>2</th>\n",
       "      <td>3.50</td>\n",
       "      <td>total_bill</td>\n",
       "      <td>21.01</td>\n",
       "      <td>0.42884</td>\n",
       "      <td>day</td>\n",
       "      <td>3.0</td>\n",
       "      <td>0.08489</td>\n",
       "      <td>sex</td>\n",
       "      <td>0.0</td>\n",
       "      <td>-0.021616</td>\n",
       "    </tr>\n",
       "    <tr>\n",
       "      <th>3</th>\n",
       "      <td>3.31</td>\n",
       "      <td>day</td>\n",
       "      <td>3.0</td>\n",
       "      <td>0.125816</td>\n",
       "      <td>total_bill</td>\n",
       "      <td>23.68</td>\n",
       "      <td>0.074177</td>\n",
       "      <td>size</td>\n",
       "      <td>2.0</td>\n",
       "      <td>-0.043787</td>\n",
       "    </tr>\n",
       "    <tr>\n",
       "      <th>4</th>\n",
       "      <td>3.61</td>\n",
       "      <td>total_bill</td>\n",
       "      <td>24.59</td>\n",
       "      <td>-0.319232</td>\n",
       "      <td>sex</td>\n",
       "      <td>1.0</td>\n",
       "      <td>0.058356</td>\n",
       "      <td>size</td>\n",
       "      <td>4.0</td>\n",
       "      <td>-0.053819</td>\n",
       "    </tr>\n",
       "  </tbody>\n",
       "</table>\n",
       "</div>"
      ],
      "text/plain": [
       "    tip   feature_1 value_1 contribution_1   feature_2 value_2 contribution_2  \\\n",
       "0  1.01  total_bill   16.99       0.183477         sex     1.0       0.107123   \n",
       "1  1.66  total_bill   10.34      -1.230111         day     3.0       0.083062   \n",
       "2  3.50  total_bill   21.01        0.42884         day     3.0        0.08489   \n",
       "3  3.31         day     3.0       0.125816  total_bill   23.68       0.074177   \n",
       "4  3.61  total_bill   24.59      -0.319232         sex     1.0       0.058356   \n",
       "\n",
       "  feature_3 value_3 contribution_3  \n",
       "0       day     3.0        0.05889  \n",
       "1    smoker     1.0      -0.062743  \n",
       "2       sex     0.0      -0.021616  \n",
       "3      size     2.0      -0.043787  \n",
       "4      size     4.0      -0.053819  "
      ]
     },
     "execution_count": 74,
     "metadata": {},
     "output_type": "execute_result"
    }
   ],
   "source": [
    "explanation.head()"
   ]
  },
  {
   "cell_type": "code",
   "execution_count": null,
   "id": "aggressive-celebration",
   "metadata": {},
   "outputs": [],
   "source": []
  }
 ],
 "metadata": {
  "kernelspec": {
   "display_name": "Python 3",
   "language": "python",
   "name": "python3"
  },
  "language_info": {
   "codemirror_mode": {
    "name": "ipython",
    "version": 3
   },
   "file_extension": ".py",
   "mimetype": "text/x-python",
   "name": "python",
   "nbconvert_exporter": "python",
   "pygments_lexer": "ipython3",
   "version": "3.8.5"
  }
 },
 "nbformat": 4,
 "nbformat_minor": 5
}
